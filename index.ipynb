{
 "cells": [
  {
   "cell_type": "markdown",
   "id": "2bb05150",
   "metadata": {},
   "source": [
    "# 📊 SyriaTel Customer Churn Prediction\n",
    "\n",
    "Welcome to this end-to-end data science project focused on customer churn prediction for **SyriaTel**, a telecommunications company.\n",
    "\n",
    "## 🧠 Problem Understanding\n",
    "\n",
    "**Business Objective:**  \n",
    "SyriaTel wants to proactively identify customers likely to **churn** (stop using their services), so they can intervene and reduce revenue loss.\n",
    "\n",
    "**Technical Objective:**  \n",
    "This is a binary classification task — I aim to train a model that accurately predicts whether a customer will churn based on historical data.\n",
    "\n",
    "\n"
   ]
  },
  {
   "cell_type": "code",
   "execution_count": 1,
   "id": "d85b1c0e",
   "metadata": {},
   "outputs": [],
   "source": [
    "\n",
    "# Import necessary libraries\n",
    "import pandas as pd\n",
    "import numpy as np\n",
    "import matplotlib.pyplot as plt\n",
    "import seaborn as sns\n",
    "import warnings\n",
    "warnings.filterwarnings('ignore')\n",
    "\n",
    "# Machine Learning libraries\n",
    "from sklearn.model_selection import train_test_split, cross_val_score, GridSearchCV, StratifiedKFold\n",
    "from sklearn.preprocessing import StandardScaler, LabelEncoder\n",
    "from sklearn.ensemble import RandomForestClassifier, GradientBoostingClassifier\n",
    "from sklearn.linear_model import LogisticRegression\n",
    "from sklearn.svm import SVC\n",
    "from sklearn.metrics import (classification_report, confusion_matrix, \n",
    "                             roc_auc_score, roc_curve, precision_recall_curve,\n",
    "                             accuracy_score, precision_score, recall_score, f1_score)\n",
    "from sklearn.feature_selection import SelectKBest, f_classif\n",
    "\n",
    "# Set plotting style\n",
    "plt.style.use('default')\n",
    "sns.set_palette(\"husl\")\n"
   ]
  },
  {
   "cell_type": "markdown",
   "id": "80f63796",
   "metadata": {},
   "source": [
    "All the necessary Python libraries for data manipulation, visualization, and machine learning have been imported at the start. Their usage will become clear as we move through each stage of the pipeline.\n"
   ]
  },
  {
   "cell_type": "code",
   "execution_count": null,
   "id": "b5adf7b7",
   "metadata": {},
   "outputs": [],
   "source": []
  }
 ],
 "metadata": {
  "kernelspec": {
   "display_name": "learn-env",
   "language": "python",
   "name": "python3"
  },
  "language_info": {
   "codemirror_mode": {
    "name": "ipython",
    "version": 3
   },
   "file_extension": ".py",
   "mimetype": "text/x-python",
   "name": "python",
   "nbconvert_exporter": "python",
   "pygments_lexer": "ipython3",
   "version": "3.12.7"
  }
 },
 "nbformat": 4,
 "nbformat_minor": 5
}
