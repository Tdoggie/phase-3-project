{
 "cells": [
  {
   "cell_type": "markdown",
   "id": "db753489",
   "metadata": {},
   "source": [
    "# Loan Default Prediction for African Mobile Lenders\n",
    "\n",
    "## Business Problem\n",
    "\n",
    "In the growing fintech industry in Kenya, mobile lenders provide quick and accessible loans to millions of customers. However, loan default poses a significant financial risk to these lenders, leading to substantial monetary losses and limiting their ability to extend credit to new customers.\n",
    "\n",
    "The goal of this project is to build a predictive model that classifies whether a borrower will default on their loan or repay it on time, based on their demographic information, historical loan performance, and current loan details. By accurately identifying high-risk borrowers before loan disbursement, the lender can make more informed decisions, reduce default rates, and improve overall profitability.\n",
    "\n",
    "This classification model will support stakeholders such as loan officers, risk managers, and product teams in:\n",
    "- Assessing borrower creditworthiness,\n",
    "- Designing targeted risk mitigation strategies,\n",
    "- Allocating credit more efficiently,\n",
    "- Ultimately enhancing the financial sustainability of mobile lending platforms.\n",
    "\n",
    "The Zindi loan default dataset is well-suited for addressing our business problem of predicting whether a loan \n",
    "will default or not. It combines three key data sources:\n",
    "\n",
    "- **Demographic data** helps us understand the background and socioeconomic profile of the borrower.\n",
    "- **Performance data** gives us insight into the current loan we want to classify — including amount, term, and repayment expectations.\n",
    "- **Previous loan history** allows us to identify behavioral trends such as past defaults, frequency of borrowing, and repayment patterns.\n",
    "\n",
    "By merging and analyzing these datasets, we can build a classification model that learns from past borrower behavior and demographic patterns to predict future loan performance. This enables the lender to make more informed, data-driven decisions and reduce the risk of default.\n"
   ]
  },
  {
   "cell_type": "markdown",
   "id": "f4dc34cd",
   "metadata": {},
   "source": []
  },
  {
   "cell_type": "code",
   "execution_count": null,
   "id": "c46491ed",
   "metadata": {},
   "outputs": [],
   "source": [
    "import pandas as pd"
   ]
  },
  {
   "cell_type": "code",
   "execution_count": null,
   "id": "101fd44e",
   "metadata": {},
   "outputs": [],
   "source": [
    "# Load the datasets\n",
    "demographics_df = pd.read_csv('./Data/traindemographics.csv')\n",
    "performance_df = pd.read_csv('./Data/trainperf.csv')\n",
    "previous_loans_df = pd.read_csv('./Data/trainprevloans.csv')"
   ]
  },
  {
   "cell_type": "code",
   "execution_count": 14,
   "id": "b9158c95",
   "metadata": {},
   "outputs": [
    {
     "name": "stdout",
     "output_type": "stream",
     "text": [
      "Final merged dataset shape: (4376, 25)\n"
     ]
    },
    {
     "data": {
      "application/vnd.microsoft.datawrangler.viewer.v0+json": {
       "columns": [
        {
         "name": "index",
         "rawType": "int64",
         "type": "integer"
        },
        {
         "name": "customerid",
         "rawType": "object",
         "type": "string"
        },
        {
         "name": "systemloanid",
         "rawType": "int64",
         "type": "integer"
        },
        {
         "name": "loannumber",
         "rawType": "int64",
         "type": "integer"
        },
        {
         "name": "approveddate",
         "rawType": "object",
         "type": "string"
        },
        {
         "name": "creationdate",
         "rawType": "object",
         "type": "string"
        },
        {
         "name": "loanamount",
         "rawType": "float64",
         "type": "float"
        },
        {
         "name": "totaldue",
         "rawType": "float64",
         "type": "float"
        },
        {
         "name": "termdays",
         "rawType": "int64",
         "type": "integer"
        },
        {
         "name": "referredby",
         "rawType": "object",
         "type": "unknown"
        },
        {
         "name": "good_bad_flag",
         "rawType": "object",
         "type": "string"
        },
        {
         "name": "birthdate",
         "rawType": "object",
         "type": "string"
        },
        {
         "name": "bank_account_type",
         "rawType": "object",
         "type": "string"
        },
        {
         "name": "longitude_gps",
         "rawType": "float64",
         "type": "float"
        },
        {
         "name": "latitude_gps",
         "rawType": "float64",
         "type": "float"
        },
        {
         "name": "bank_name_clients",
         "rawType": "object",
         "type": "string"
        },
        {
         "name": "bank_branch_clients",
         "rawType": "object",
         "type": "unknown"
        },
        {
         "name": "employment_status_clients",
         "rawType": "object",
         "type": "string"
        },
        {
         "name": "level_of_education_clients",
         "rawType": "object",
         "type": "unknown"
        },
        {
         "name": "systemloanid_count",
         "rawType": "float64",
         "type": "float"
        },
        {
         "name": "loanamount_sum",
         "rawType": "float64",
         "type": "float"
        },
        {
         "name": "loanamount_mean",
         "rawType": "float64",
         "type": "float"
        },
        {
         "name": "loanamount_max",
         "rawType": "float64",
         "type": "float"
        },
        {
         "name": "totaldue_sum",
         "rawType": "float64",
         "type": "float"
        },
        {
         "name": "totaldue_mean",
         "rawType": "float64",
         "type": "float"
        },
        {
         "name": "termdays_mean",
         "rawType": "float64",
         "type": "float"
        }
       ],
       "ref": "a0c6e89a-ddae-46f5-a141-089128b66e26",
       "rows": [
        [
         "0",
         "8a2a81a74ce8c05d014cfb32a0da1049",
         "301994762",
         "12",
         "2017-07-25 08:22:56.000000",
         "2017-07-25 07:22:47.000000",
         "30000.0",
         "34500.0",
         "30",
         null,
         "Good",
         "1972-01-15 00:00:00.000000",
         "Other",
         "3.4320102",
         "6.4330553",
         "Diamond Bank",
         null,
         "Permanent",
         "Post-Graduate",
         "11.0",
         "200000.0",
         "18181.81818181818",
         "30000.0",
         "242900.0",
         "22081.81818181818",
         "30.0"
        ],
        [
         "1",
         "8a85886e54beabf90154c0a29ae757c0",
         "301965204",
         "2",
         "2017-07-05 17:04:41.000000",
         "2017-07-05 16:04:18.000000",
         "15000.0",
         "17250.0",
         "30",
         null,
         "Good",
         "1985-08-23 00:00:00.000000",
         "Savings",
         "3.885298",
         "7.3207003",
         "GT Bank",
         "DUGBE,IBADAN",
         "Permanent",
         "Graduate",
         null,
         null,
         null,
         null,
         null,
         null,
         null
        ],
        [
         "2",
         "8a8588f35438fe12015444567666018e",
         "301966580",
         "7",
         "2017-07-06 14:52:57.000000",
         "2017-07-06 13:52:51.000000",
         "20000.0",
         "22250.0",
         "15",
         null,
         "Good",
         "1984-09-18 00:00:00.000000",
         "Other",
         "11.1393496",
         "10.2920413",
         "EcoBank",
         null,
         "Permanent",
         null,
         "6.0",
         "60000.0",
         "10000.0",
         "10000.0",
         "70500.0",
         "11750.0",
         "17.5"
        ],
        [
         "3",
         "8a85890754145ace015429211b513e16",
         "301999343",
         "3",
         "2017-07-27 19:00:41.000000",
         "2017-07-27 18:00:35.000000",
         "10000.0",
         "11500.0",
         "15",
         null,
         "Good",
         "1977-10-10 00:00:00.000000",
         "Savings",
         "3.9857698",
         "7.4917081",
         "First Bank",
         null,
         "Permanent",
         null,
         "2.0",
         "20000.0",
         "10000.0",
         "10000.0",
         "24500.0",
         "12250.0",
         "22.5"
        ],
        [
         "4",
         "8a858970548359cc0154883481981866",
         "301962360",
         "9",
         "2017-07-03 23:42:45.000000",
         "2017-07-03 22:42:39.000000",
         "40000.0",
         "44000.0",
         "30",
         null,
         "Good",
         "1986-09-07 00:00:00.000000",
         "Other",
         "7.4579127",
         "9.0765736",
         "GT Bank",
         null,
         "Permanent",
         "Primary",
         "8.0",
         "150000.0",
         "18750.0",
         "30000.0",
         "188400.0",
         "23550.0",
         "37.5"
        ]
       ],
       "shape": {
        "columns": 25,
        "rows": 5
       }
      },
      "text/html": [
       "<div>\n",
       "<style scoped>\n",
       "    .dataframe tbody tr th:only-of-type {\n",
       "        vertical-align: middle;\n",
       "    }\n",
       "\n",
       "    .dataframe tbody tr th {\n",
       "        vertical-align: top;\n",
       "    }\n",
       "\n",
       "    .dataframe thead th {\n",
       "        text-align: right;\n",
       "    }\n",
       "</style>\n",
       "<table border=\"1\" class=\"dataframe\">\n",
       "  <thead>\n",
       "    <tr style=\"text-align: right;\">\n",
       "      <th></th>\n",
       "      <th>customerid</th>\n",
       "      <th>systemloanid</th>\n",
       "      <th>loannumber</th>\n",
       "      <th>approveddate</th>\n",
       "      <th>creationdate</th>\n",
       "      <th>loanamount</th>\n",
       "      <th>totaldue</th>\n",
       "      <th>termdays</th>\n",
       "      <th>referredby</th>\n",
       "      <th>good_bad_flag</th>\n",
       "      <th>...</th>\n",
       "      <th>bank_branch_clients</th>\n",
       "      <th>employment_status_clients</th>\n",
       "      <th>level_of_education_clients</th>\n",
       "      <th>systemloanid_count</th>\n",
       "      <th>loanamount_sum</th>\n",
       "      <th>loanamount_mean</th>\n",
       "      <th>loanamount_max</th>\n",
       "      <th>totaldue_sum</th>\n",
       "      <th>totaldue_mean</th>\n",
       "      <th>termdays_mean</th>\n",
       "    </tr>\n",
       "  </thead>\n",
       "  <tbody>\n",
       "    <tr>\n",
       "      <th>0</th>\n",
       "      <td>8a2a81a74ce8c05d014cfb32a0da1049</td>\n",
       "      <td>301994762</td>\n",
       "      <td>12</td>\n",
       "      <td>2017-07-25 08:22:56.000000</td>\n",
       "      <td>2017-07-25 07:22:47.000000</td>\n",
       "      <td>30000.0</td>\n",
       "      <td>34500.0</td>\n",
       "      <td>30</td>\n",
       "      <td>NaN</td>\n",
       "      <td>Good</td>\n",
       "      <td>...</td>\n",
       "      <td>NaN</td>\n",
       "      <td>Permanent</td>\n",
       "      <td>Post-Graduate</td>\n",
       "      <td>11.0</td>\n",
       "      <td>200000.0</td>\n",
       "      <td>18181.818182</td>\n",
       "      <td>30000.0</td>\n",
       "      <td>242900.0</td>\n",
       "      <td>22081.818182</td>\n",
       "      <td>30.0</td>\n",
       "    </tr>\n",
       "    <tr>\n",
       "      <th>1</th>\n",
       "      <td>8a85886e54beabf90154c0a29ae757c0</td>\n",
       "      <td>301965204</td>\n",
       "      <td>2</td>\n",
       "      <td>2017-07-05 17:04:41.000000</td>\n",
       "      <td>2017-07-05 16:04:18.000000</td>\n",
       "      <td>15000.0</td>\n",
       "      <td>17250.0</td>\n",
       "      <td>30</td>\n",
       "      <td>NaN</td>\n",
       "      <td>Good</td>\n",
       "      <td>...</td>\n",
       "      <td>DUGBE,IBADAN</td>\n",
       "      <td>Permanent</td>\n",
       "      <td>Graduate</td>\n",
       "      <td>NaN</td>\n",
       "      <td>NaN</td>\n",
       "      <td>NaN</td>\n",
       "      <td>NaN</td>\n",
       "      <td>NaN</td>\n",
       "      <td>NaN</td>\n",
       "      <td>NaN</td>\n",
       "    </tr>\n",
       "    <tr>\n",
       "      <th>2</th>\n",
       "      <td>8a8588f35438fe12015444567666018e</td>\n",
       "      <td>301966580</td>\n",
       "      <td>7</td>\n",
       "      <td>2017-07-06 14:52:57.000000</td>\n",
       "      <td>2017-07-06 13:52:51.000000</td>\n",
       "      <td>20000.0</td>\n",
       "      <td>22250.0</td>\n",
       "      <td>15</td>\n",
       "      <td>NaN</td>\n",
       "      <td>Good</td>\n",
       "      <td>...</td>\n",
       "      <td>NaN</td>\n",
       "      <td>Permanent</td>\n",
       "      <td>NaN</td>\n",
       "      <td>6.0</td>\n",
       "      <td>60000.0</td>\n",
       "      <td>10000.000000</td>\n",
       "      <td>10000.0</td>\n",
       "      <td>70500.0</td>\n",
       "      <td>11750.000000</td>\n",
       "      <td>17.5</td>\n",
       "    </tr>\n",
       "    <tr>\n",
       "      <th>3</th>\n",
       "      <td>8a85890754145ace015429211b513e16</td>\n",
       "      <td>301999343</td>\n",
       "      <td>3</td>\n",
       "      <td>2017-07-27 19:00:41.000000</td>\n",
       "      <td>2017-07-27 18:00:35.000000</td>\n",
       "      <td>10000.0</td>\n",
       "      <td>11500.0</td>\n",
       "      <td>15</td>\n",
       "      <td>NaN</td>\n",
       "      <td>Good</td>\n",
       "      <td>...</td>\n",
       "      <td>NaN</td>\n",
       "      <td>Permanent</td>\n",
       "      <td>NaN</td>\n",
       "      <td>2.0</td>\n",
       "      <td>20000.0</td>\n",
       "      <td>10000.000000</td>\n",
       "      <td>10000.0</td>\n",
       "      <td>24500.0</td>\n",
       "      <td>12250.000000</td>\n",
       "      <td>22.5</td>\n",
       "    </tr>\n",
       "    <tr>\n",
       "      <th>4</th>\n",
       "      <td>8a858970548359cc0154883481981866</td>\n",
       "      <td>301962360</td>\n",
       "      <td>9</td>\n",
       "      <td>2017-07-03 23:42:45.000000</td>\n",
       "      <td>2017-07-03 22:42:39.000000</td>\n",
       "      <td>40000.0</td>\n",
       "      <td>44000.0</td>\n",
       "      <td>30</td>\n",
       "      <td>NaN</td>\n",
       "      <td>Good</td>\n",
       "      <td>...</td>\n",
       "      <td>NaN</td>\n",
       "      <td>Permanent</td>\n",
       "      <td>Primary</td>\n",
       "      <td>8.0</td>\n",
       "      <td>150000.0</td>\n",
       "      <td>18750.000000</td>\n",
       "      <td>30000.0</td>\n",
       "      <td>188400.0</td>\n",
       "      <td>23550.000000</td>\n",
       "      <td>37.5</td>\n",
       "    </tr>\n",
       "  </tbody>\n",
       "</table>\n",
       "<p>5 rows × 25 columns</p>\n",
       "</div>"
      ],
      "text/plain": [
       "                         customerid  systemloanid  loannumber  \\\n",
       "0  8a2a81a74ce8c05d014cfb32a0da1049     301994762          12   \n",
       "1  8a85886e54beabf90154c0a29ae757c0     301965204           2   \n",
       "2  8a8588f35438fe12015444567666018e     301966580           7   \n",
       "3  8a85890754145ace015429211b513e16     301999343           3   \n",
       "4  8a858970548359cc0154883481981866     301962360           9   \n",
       "\n",
       "                 approveddate                creationdate  loanamount  \\\n",
       "0  2017-07-25 08:22:56.000000  2017-07-25 07:22:47.000000     30000.0   \n",
       "1  2017-07-05 17:04:41.000000  2017-07-05 16:04:18.000000     15000.0   \n",
       "2  2017-07-06 14:52:57.000000  2017-07-06 13:52:51.000000     20000.0   \n",
       "3  2017-07-27 19:00:41.000000  2017-07-27 18:00:35.000000     10000.0   \n",
       "4  2017-07-03 23:42:45.000000  2017-07-03 22:42:39.000000     40000.0   \n",
       "\n",
       "   totaldue  termdays referredby good_bad_flag  ... bank_branch_clients  \\\n",
       "0   34500.0        30        NaN          Good  ...                 NaN   \n",
       "1   17250.0        30        NaN          Good  ...        DUGBE,IBADAN   \n",
       "2   22250.0        15        NaN          Good  ...                 NaN   \n",
       "3   11500.0        15        NaN          Good  ...                 NaN   \n",
       "4   44000.0        30        NaN          Good  ...                 NaN   \n",
       "\n",
       "  employment_status_clients  level_of_education_clients  systemloanid_count  \\\n",
       "0                 Permanent               Post-Graduate                11.0   \n",
       "1                 Permanent                    Graduate                 NaN   \n",
       "2                 Permanent                         NaN                 6.0   \n",
       "3                 Permanent                         NaN                 2.0   \n",
       "4                 Permanent                     Primary                 8.0   \n",
       "\n",
       "  loanamount_sum loanamount_mean loanamount_max totaldue_sum  totaldue_mean  \\\n",
       "0       200000.0    18181.818182        30000.0     242900.0   22081.818182   \n",
       "1            NaN             NaN            NaN          NaN            NaN   \n",
       "2        60000.0    10000.000000        10000.0      70500.0   11750.000000   \n",
       "3        20000.0    10000.000000        10000.0      24500.0   12250.000000   \n",
       "4       150000.0    18750.000000        30000.0     188400.0   23550.000000   \n",
       "\n",
       "   termdays_mean  \n",
       "0           30.0  \n",
       "1            NaN  \n",
       "2           17.5  \n",
       "3           22.5  \n",
       "4           37.5  \n",
       "\n",
       "[5 rows x 25 columns]"
      ]
     },
     "execution_count": 14,
     "metadata": {},
     "output_type": "execute_result"
    }
   ],
   "source": [
    "# Merge demographic and performance data on 'customerid'\n",
    "merged_df = pd.merge(performance_df, demographics_df, on='customerid', how='left')\n",
    "\n",
    "# Merge previous loans data (aggregated) to the above merged data\n",
    "# First, engineer relevant historical features from the previous loans\n",
    "# For example: number of previous loans, total amount borrowed, etc.\n",
    "\n",
    "# Create historical summary features\n",
    "prev_loan_summary = previous_loans_df.groupby('customerid').agg({\n",
    "    'systemloanid': 'count',  # Number of previous loans\n",
    "    'loanamount': ['sum', 'mean', 'max'],  # Aggregated loan amounts\n",
    "    'totaldue': ['sum', 'mean'],  # Aggregated repayment amounts\n",
    "    'termdays': 'mean'  # Average loan term\n",
    "})\n",
    "\n",
    "# Flatten the multi-index columns\n",
    "prev_loan_summary.columns = ['_'.join(col) for col in prev_loan_summary.columns]\n",
    "prev_loan_summary.reset_index(inplace=True)\n",
    "\n",
    "# Merge the summarized previous loans data with the merged dataset\n",
    "final_df = pd.merge(merged_df, prev_loan_summary, on='customerid', how='left')\n",
    "\n",
    "# Display shape and a few rows\n",
    "print(\"Final merged dataset shape:\", final_df.shape)\n",
    "final_df.head()\n"
   ]
  },
  {
   "cell_type": "code",
   "execution_count": 16,
   "id": "8bb4cbca",
   "metadata": {},
   "outputs": [
    {
     "data": {
      "application/vnd.microsoft.datawrangler.viewer.v0+json": {
       "columns": [
        {
         "name": "index",
         "rawType": "object",
         "type": "string"
        },
        {
         "name": "0",
         "rawType": "float64",
         "type": "float"
        }
       ],
       "ref": "5c32783d-3385-4f7b-a631-53e7107b9311",
       "rows": [
        [
         "bank_branch_clients",
         "99.24588665447898"
        ],
        [
         "level_of_education_clients",
         "89.87659963436928"
        ],
        [
         "referredby",
         "86.54021937842778"
        ],
        [
         "employment_status_clients",
         "36.38025594149909"
        ],
        [
         "longitude_gps",
         "25.114259597806214"
        ],
        [
         "bank_account_type",
         "25.114259597806214"
        ],
        [
         "bank_name_clients",
         "25.114259597806214"
        ],
        [
         "birthdate",
         "25.114259597806214"
        ],
        [
         "latitude_gps",
         "25.114259597806214"
        ],
        [
         "systemloanid_count",
         "0.20566727605118829"
        ],
        [
         "loanamount_sum",
         "0.20566727605118829"
        ],
        [
         "loanamount_mean",
         "0.20566727605118829"
        ],
        [
         "loanamount_max",
         "0.20566727605118829"
        ],
        [
         "totaldue_sum",
         "0.20566727605118829"
        ],
        [
         "totaldue_mean",
         "0.20566727605118829"
        ],
        [
         "termdays_mean",
         "0.20566727605118829"
        ]
       ],
       "shape": {
        "columns": 1,
        "rows": 16
       }
      },
      "text/plain": [
       "bank_branch_clients           99.245887\n",
       "level_of_education_clients    89.876600\n",
       "referredby                    86.540219\n",
       "employment_status_clients     36.380256\n",
       "longitude_gps                 25.114260\n",
       "bank_account_type             25.114260\n",
       "bank_name_clients             25.114260\n",
       "birthdate                     25.114260\n",
       "latitude_gps                  25.114260\n",
       "systemloanid_count             0.205667\n",
       "loanamount_sum                 0.205667\n",
       "loanamount_mean                0.205667\n",
       "loanamount_max                 0.205667\n",
       "totaldue_sum                   0.205667\n",
       "totaldue_mean                  0.205667\n",
       "termdays_mean                  0.205667\n",
       "dtype: float64"
      ]
     },
     "execution_count": 16,
     "metadata": {},
     "output_type": "execute_result"
    }
   ],
   "source": [
    "# Calculate missing value percentages\n",
    "missing_percent = (final_df.isnull().sum() / final_df.shape[0]) * 100\n",
    "\n",
    "# Filter and sort columns with missing values\n",
    "missing_percent = missing_percent[missing_percent > 0].sort_values(ascending=False)\n",
    "\n",
    "# Display\n",
    "missing_percent\n"
   ]
  },
  {
   "cell_type": "code",
   "execution_count": null,
   "id": "25f77d71",
   "metadata": {},
   "outputs": [],
   "source": []
  }
 ],
 "metadata": {
  "kernelspec": {
   "display_name": "learn-env",
   "language": "python",
   "name": "python3"
  },
  "language_info": {
   "codemirror_mode": {
    "name": "ipython",
    "version": 3
   },
   "file_extension": ".py",
   "mimetype": "text/x-python",
   "name": "python",
   "nbconvert_exporter": "python",
   "pygments_lexer": "ipython3",
   "version": "3.12.7"
  }
 },
 "nbformat": 4,
 "nbformat_minor": 5
}
