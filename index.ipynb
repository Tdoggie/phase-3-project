{
 "cells": [
  {
   "cell_type": "markdown",
   "id": "db753489",
   "metadata": {},
   "source": [
    "# Loan Default Prediction for Kenyan Mobile Lender\n",
    "\n",
    "## Business Problem\n",
    "\n",
    "In the growing fintech industry in Kenya, mobile lenders provide quick and accessible loans to millions of customers. However, loan default poses a significant financial risk to these lenders, leading to substantial monetary losses and limiting their ability to extend credit to new customers.\n",
    "\n",
    "The goal of this project is to build a predictive model that classifies whether a borrower will default on their loan or repay it on time, based on their demographic information, historical loan performance, and current loan details. By accurately identifying high-risk borrowers before loan disbursement, the lender can make more informed decisions, reduce default rates, and improve overall profitability.\n",
    "\n",
    "This classification model will support stakeholders such as loan officers, risk managers, and product teams in:\n",
    "- Assessing borrower creditworthiness,\n",
    "- Designing targeted risk mitigation strategies,\n",
    "- Allocating credit more efficiently,\n",
    "- Ultimately enhancing the financial sustainability of mobile lending platforms.\n",
    "\n",
    "The dataset for this project consists of multiple sources containing demographic data, loan performance, and previous loan histories for borrowers. The outcome variable is binary — whether a loan was settled on time (\"good\") or defaulted (\"bad\").\n",
    "\n",
    "---\n",
    "\n",
    "This project will showcase the end-to-end data science process: data merging, cleaning, exploratory analysis, feature engineering, model building, evaluation, and interpretation — applying inferential modeling, machine learning fundamentals, and classification techniques learned during the Phase 3 syllabus.\n"
   ]
  }
 ],
 "metadata": {
  "language_info": {
   "name": "python"
  }
 },
 "nbformat": 4,
 "nbformat_minor": 5
}
